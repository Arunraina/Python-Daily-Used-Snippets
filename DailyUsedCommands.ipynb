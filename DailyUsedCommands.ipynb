{
 "cells": [
  {
   "cell_type": "code",
   "execution_count": null,
   "metadata": {},
   "outputs": [],
   "source": [
    "#Swap values between two variables\n",
    "\n",
    "a = 4\n",
    "b=6\n",
    "a,b=b,a\n",
    "print(a)\n",
    "print(b)"
   ]
  },
  {
   "cell_type": "code",
   "execution_count": null,
   "metadata": {},
   "outputs": [],
   "source": [
    "#Check if the given number is even\n",
    "\n",
    "def is_even(num):\n",
    "    return num % 2 == 0\n",
    "is_even(12)"
   ]
  },
  {
   "cell_type": "code",
   "execution_count": null,
   "metadata": {},
   "outputs": [],
   "source": [
    "#Split a multiline string into a list of lines\n",
    "\n",
    "def split_lines(s):\n",
    "    return s.split('\\n')\n",
    "split_lines('50\\n python\\n data')"
   ]
  },
  {
   "cell_type": "code",
   "execution_count": null,
   "metadata": {},
   "outputs": [],
   "source": [
    "#Find memory used by an object\n",
    "\n",
    "import sys\n",
    "print(sys.getsizeof(6))\n"
   ]
  },
  {
   "cell_type": "code",
   "execution_count": null,
   "metadata": {},
   "outputs": [],
   "source": [
    "#Reverse a string\n",
    "\n",
    "language = \"python\"\n",
    "reversed_language = language[::-1]                                                              \n",
    "print(reversed_language)"
   ]
  },
  {
   "cell_type": "code",
   "execution_count": null,
   "metadata": {},
   "outputs": [],
   "source": [
    "#Print a string n times\n",
    "\n",
    "def repeat(string, n):\n",
    "    return (string * n)\n",
    "repeat('python',5)"
   ]
  },
  {
   "cell_type": "code",
   "execution_count": null,
   "metadata": {},
   "outputs": [],
   "source": [
    "#Check if a string is a palindrome\n",
    "\n",
    "def palindrome(string):\n",
    "    return string == string[::-1]\n",
    "palindrome('python')\n",
    "#palindrome mean a words or phrase or sequence that reads the same backwards as forwards"
   ]
  },
  {
   "cell_type": "code",
   "execution_count": null,
   "metadata": {},
   "outputs": [],
   "source": [
    "# Combine a list of strings into a single string\n",
    "\n",
    "print(','.join(strings))"
   ]
  },
  {
   "cell_type": "code",
   "execution_count": null,
   "metadata": {},
   "outputs": [],
   "source": [
    "#Find the first element of a list\n",
    "\n",
    "def head(list):\n",
    "    return list[0]\n",
    "print(head([1, 2, 3, 4, 5]))"
   ]
  },
  {
   "cell_type": "code",
   "execution_count": null,
   "metadata": {},
   "outputs": [],
   "source": [
    "#Find elements that exist in either of the two lists\n",
    "\n",
    "def union(a,b):\n",
    "    return list(set(a + b))\n",
    "union([1, 2, 3, 4, 5], [6, 2, 8, 1, 4])"
   ]
  },
  {
   "cell_type": "code",
   "execution_count": null,
   "metadata": {},
   "outputs": [],
   "source": [
    "# Find all the unique elements present in a given list\n",
    "\n",
    "def unique_elements(numbers):\n",
    "    return list(set(numbers))\n",
    "unique_elements([1, 2, 3, 2, 4])"
   ]
  },
  {
   "cell_type": "code",
   "execution_count": null,
   "metadata": {},
   "outputs": [],
   "source": [
    "#Find the average of a list of numbers\n",
    "\n",
    "def average(*args):\n",
    "    return sum(args, 0.0) / len(args)\n",
    "average(5, 8, 2)"
   ]
  },
  {
   "cell_type": "code",
   "execution_count": null,
   "metadata": {},
   "outputs": [],
   "source": [
    "#Check if a list contains all unique values\n",
    "\n",
    "def unique(list):\n",
    "    if len(list)==len(set(list)):\n",
    "        print(\"All elements are unique\")\n",
    "    else:\n",
    "        print(\"List has duplicates\")\n",
    "unique([1,2,3,4,5])"
   ]
  },
  {
   "cell_type": "code",
   "execution_count": null,
   "metadata": {},
   "outputs": [],
   "source": [
    "#Track frequency of elements in a list\n",
    "\n",
    "from collections import Counter\n",
    "list = [1, 2, 3, 2, 4, 3, 2, 3]\n",
    "count = Counter(list)\n",
    "print(count)"
   ]
  },
  {
   "cell_type": "code",
   "execution_count": null,
   "metadata": {},
   "outputs": [],
   "source": [
    "#Find the most frequent element in a list\n",
    "\n",
    "def most_frequent(list):\n",
    "    return max(set(list), key = list.count)\n",
    "numbers = [1, 2, 3, 2, 4, 3, 1, 3]\n",
    "most_frequent(numbers)"
   ]
  },
  {
   "cell_type": "code",
   "execution_count": null,
   "metadata": {},
   "outputs": [],
   "source": [
    "#Convert an angle from degrees to radians\n",
    "\n",
    "import math\n",
    "def degrees_to_radians(deg):\n",
    "    return (deg * math.pi) / 180.0\n",
    "degrees_to_radians(90)"
   ]
  },
  {
   "cell_type": "code",
   "execution_count": null,
   "metadata": {},
   "outputs": [],
   "source": [
    "#Calculate time taken to execute a piece of code\n",
    "\n",
    "import time\n",
    "start_time = time.time()\n",
    "a,b = 5,10\n",
    "c = a+b\n",
    "end_time = time.time()\n",
    "time_taken = (end_time- start_time)*(10**6)\n",
    "print(\"Time taken in micro_seconds:\", time_taken)"
   ]
  },
  {
   "cell_type": "code",
   "execution_count": null,
   "metadata": {},
   "outputs": [],
   "source": [
    "# Find gcd of a list of numbers\n",
    "\n",
    "from functools import reduce\n",
    "import math\n",
    "def gcd(numbers):\n",
    "    return reduce(math.gcd, numbers)\n",
    "gcd([24,108,90])"
   ]
  },
  {
   "cell_type": "code",
   "execution_count": null,
   "metadata": {},
   "outputs": [],
   "source": [
    "#Find unique characters in a string\n",
    "\n",
    "string = \"pythondataon\"   \n",
    "unique = set(string)\n",
    "new_string = ''.join(unique)\n",
    "print(new_string)"
   ]
  },
  {
   "cell_type": "code",
   "execution_count": null,
   "metadata": {},
   "outputs": [],
   "source": [
    "#Use lambda functions\n",
    "\n",
    "x = lambda a, b, c : a + b + c\n",
    "print(x(5, 10, 20))"
   ]
  },
  {
   "cell_type": "code",
   "execution_count": null,
   "metadata": {},
   "outputs": [],
   "source": [
    "#Use map functions\n",
    "def multiply(n): \n",
    "    return n * n \n",
    "  \n",
    "list = (1, 3, 5) \n",
    "result = map(multiply, list) \n",
    "print(list(result))"
   ]
  },
  {
   "cell_type": "code",
   "execution_count": null,
   "metadata": {},
   "outputs": [],
   "source": [
    "#Use filter functions\n",
    "\n",
    "arr = [1, 2, 3, 4, 5]\n",
    "arr = list(filter(lambda x : x%2 == 0, arr))\n",
    "print (arr)"
   ]
  },
  {
   "cell_type": "code",
   "execution_count": 52,
   "metadata": {},
   "outputs": [],
   "source": [
    "import pandas as pd\n",
    "import numpy as ns"
   ]
  },
  {
   "cell_type": "code",
   "execution_count": 53,
   "metadata": {},
   "outputs": [
    {
     "name": "stdout",
     "output_type": "stream",
     "text": [
      "[1, 4, 9]\n"
     ]
    }
   ],
   "source": [
    "#Use list comprehensions\n",
    "\n",
    "numbers = [1, 2, 3]\n",
    "squares = [number**2 for number in numbers]\n",
    "print(squares)"
   ]
  },
  {
   "cell_type": "code",
   "execution_count": 54,
   "metadata": {},
   "outputs": [
    {
     "name": "stdout",
     "output_type": "stream",
     "text": [
      "[3, 4, 5, 1, 2]\n"
     ]
    }
   ],
   "source": [
    "#Use slicing operator\n",
    "\n",
    "def rotate(arr, d):\n",
    "    return arr[d:] + arr[:d]\n",
    "  \n",
    "if __name__ == '__main__':\n",
    "    arr = [1, 2, 3, 4, 5]\n",
    "    arr = rotate(arr, 2)\n",
    "    print (arr)"
   ]
  },
  {
   "cell_type": "code",
   "execution_count": 57,
   "metadata": {},
   "outputs": [
    {
     "name": "stdout",
     "output_type": "stream",
     "text": [
      "15\n"
     ]
    }
   ],
   "source": [
    "#Use chained function call\n",
    "\n",
    "def add(a, b):\n",
    "    return a + b\n",
    "def subtract(a, b):   \n",
    "    return a - b\n",
    "a, b = 5, 10\n",
    "print((subtract if a > b else add)(a, b)) "
   ]
  },
  {
   "cell_type": "code",
   "execution_count": null,
   "metadata": {},
   "outputs": [],
   "source": []
  }
 ],
 "metadata": {
  "kernelspec": {
   "display_name": "Python 3",
   "language": "python",
   "name": "python3"
  },
  "language_info": {
   "codemirror_mode": {
    "name": "ipython",
    "version": 3
   },
   "file_extension": ".py",
   "mimetype": "text/x-python",
   "name": "python",
   "nbconvert_exporter": "python",
   "pygments_lexer": "ipython3",
   "version": "3.7.3"
  }
 },
 "nbformat": 4,
 "nbformat_minor": 2
}
